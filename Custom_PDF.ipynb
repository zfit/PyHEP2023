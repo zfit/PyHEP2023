{
 "cells": [
  {
   "cell_type": "markdown",
   "metadata": {},
   "source": [
    "# Creating your own pdf\n",
    "\n",
    "A core feature of zfit is the ability to create custom pdfs and functions in an simple and straightforward way.\n",
    "\n",
    "There are two main possibilities to create a custom pdf, an easier for most use-cases and an advanced way.\n",
    "\n",
    "[**Extended tutorial on custom PDF and code in zfit**](https://zfit-tutorials.readthedocs.io/en/master/tutorials/components/50%20-%20Custom%20code%20and%20run%20mode.html)\n",
    "\n",
    "## The simple way\n",
    "\n",
    "While the same works for functions, an example with a PDF is shown here.\n",
    "\n"
   ]
  },
  {
   "cell_type": "code",
   "execution_count": null,
   "metadata": {
    "ExecuteTime": {
     "end_time": "2023-10-08T18:57:41.726463614Z",
     "start_time": "2023-10-08T18:57:40.912083590Z"
    }
   },
   "outputs": [],
   "source": [
    "import numpy as np\n",
    "import zfit\n",
    "import zfit.z.numpy as znp  # numpy namespace for backend\n",
    "from zfit import z"
   ]
  },
  {
   "cell_type": "markdown",
   "metadata": {},
   "source": [
    "The first way is the most simple and should only be used for the trivial cases, i.e. if you're not familiar with Python classes (especially not with the `__init__` method)."
   ]
  },
  {
   "cell_type": "code",
   "execution_count": null,
   "metadata": {
    "ExecuteTime": {
     "end_time": "2023-10-08T18:57:41.726881811Z",
     "start_time": "2023-10-08T18:57:40.912237212Z"
    }
   },
   "outputs": [],
   "source": [
    "class MyGauss(zfit.pdf.ZPDF):\n",
    "    _N_OBS = 1  # dimension, can be omitted\n",
    "    _PARAMS = ['mean', 'std']  # the name of the parameters\n",
    "\n",
    "    def _unnormalized_pdf(self, x):\n",
    "        x = z.unstack_x(x)  # returns a list with the columns: do x, y, z = z.unstack_x(x) for 3D\n",
    "        mean = self.params['mean']\n",
    "        std = self.params['std']\n",
    "        return znp.exp(- ((x - mean) / std) ** 2)"
   ]
  },
  {
   "cell_type": "markdown",
   "metadata": {},
   "source": [
    "Done. Now we can use our pdf already!\n",
    "\n",
    "The slightly more general way involves overwritting the `__init__` and gives you all the possible flexibility: to use custom parameters, to preprocess them etc.\n",
    "\n",
    "Here we inherit from `BasePDF`"
   ]
  },
  {
   "cell_type": "code",
   "execution_count": null,
   "metadata": {
    "ExecuteTime": {
     "end_time": "2023-10-08T18:57:41.727048581Z",
     "start_time": "2023-10-08T18:57:40.912357728Z"
    }
   },
   "outputs": [],
   "source": [
    "class MyGauss(zfit.pdf.BasePDF):\n",
    "\n",
    "    def __init__(self, mean, std, obs, extended=None, norm=None, name=None):\n",
    "        params = {'mean': mean,  # 'mean' is the name as it will be named in the PDF, mean is just the parameter to create the PDF\n",
    "                  'std': std}\n",
    "        super().__init__(obs=obs, params=params, extended=extended, norm=norm,\n",
    "                         name=name)\n",
    "\n",
    "    # inside a PDF, use always `znp.something` instead of `np.something` or pure Python code\n",
    "    # Otherwise, it won't be recalculated by default\n",
    "    def _unnormalized_pdf(self, x):\n",
    "        x = z.unstack_x(x)\n",
    "        mean = self.params['mean']\n",
    "        std = self.params['std']\n",
    "        return znp.exp(- ((x - mean) / std) ** 2)"
   ]
  },
  {
   "cell_type": "code",
   "execution_count": null,
   "metadata": {
    "ExecuteTime": {
     "end_time": "2023-10-08T18:57:41.727493598Z",
     "start_time": "2023-10-08T18:57:40.912435613Z"
    }
   },
   "outputs": [],
   "source": [
    "obs = zfit.Space('obs1', limits=(-3, 6))\n",
    "\n",
    "data_np = np.random.random(size=1000)\n",
    "data = zfit.data.Data.from_numpy(array=data_np, obs=obs)"
   ]
  },
  {
   "cell_type": "markdown",
   "metadata": {},
   "source": [
    "Create two parameters and an instance of your own pdf"
   ]
  },
  {
   "cell_type": "code",
   "execution_count": null,
   "metadata": {
    "ExecuteTime": {
     "end_time": "2023-10-08T18:57:41.727631786Z",
     "start_time": "2023-10-08T18:57:41.085104578Z"
    }
   },
   "outputs": [],
   "source": [
    "mean = zfit.Parameter(\"mean\", 1.)\n",
    "std = zfit.Parameter(\"std\", 1.)\n",
    "my_gauss = MyGauss(obs=obs, mean=mean, std=std)"
   ]
  },
  {
   "cell_type": "code",
   "execution_count": null,
   "metadata": {
    "ExecuteTime": {
     "end_time": "2023-10-08T18:57:41.729417118Z",
     "start_time": "2023-10-08T18:57:41.097610934Z"
    }
   },
   "outputs": [],
   "source": [
    "probs = my_gauss.pdf(data)"
   ]
  },
  {
   "cell_type": "code",
   "execution_count": null,
   "metadata": {
    "ExecuteTime": {
     "end_time": "2023-10-08T18:57:41.729909449Z",
     "start_time": "2023-10-08T18:57:41.184005646Z"
    }
   },
   "outputs": [],
   "source": [
    "print(probs[:20])"
   ]
  },
  {
   "cell_type": "code",
   "execution_count": null,
   "metadata": {
    "ExecuteTime": {
     "end_time": "2023-10-08T18:57:41.730043635Z",
     "start_time": "2023-10-08T18:57:41.190020473Z"
    },
    "collapsed": false,
    "jupyter": {
     "outputs_hidden": false
    }
   },
   "outputs": [],
   "source": []
  },
  {
   "cell_type": "markdown",
   "metadata": {
    "collapsed": false,
    "jupyter": {
     "outputs_hidden": false
    }
   },
   "source": [
    "## Multiple dimensions and parameters with angular observables\n",
    "\n",
    "Let's step this up!\n",
    "\n",
    "So far, we used rather simple examples and many basic shapes, such as polynomials, already have an efficient implementation within zfit. Therefore, we will now create a three dimensional PDF measuring the angular observables of a $B^+ \\rightarrow K^* l l$ decay.\n",
    "\n",
    "The implementation is not \"special\" or complicated at all, it rather shows how to deal with multiple dimensions and how to manage several parameters. It was created using the equation of the angular observables (taken from a paper).\n",
    "\n",
    "_Many thanks to Rafael Silva Coutinho for the implementation!_"
   ]
  },
  {
   "cell_type": "code",
   "execution_count": null,
   "metadata": {
    "ExecuteTime": {
     "end_time": "2023-10-08T18:57:41.730167393Z",
     "start_time": "2023-10-08T18:57:41.232190273Z"
    },
    "collapsed": false,
    "jupyter": {
     "outputs_hidden": false
    }
   },
   "outputs": [],
   "source": [
    "class AngularPDF(zfit.pdf.ZPDF):\n",
    "    \"\"\"Full d4Gamma/dq2dOmega for Bd -> Kst ll (l=e,mu)\n",
    "\n",
    "    Angular distribution obtained in the total PDF (using LHCb convention JHEP 02 (2016) 104)\n",
    "        i.e. the valid of the angles is given for\n",
    "\n",
    "            - theta_l: [0, pi]\n",
    "            - theta_K: [0, pi]\n",
    "            - phi: [-pi, pi]\n",
    "            \n",
    "\n",
    "        The function is normalized over a finite range and therefore a PDF.\n",
    "\n",
    "        Args:\n",
    "\n",
    "            FL (`zfit.Parameter`): Fraction of longitudinal polarisation of the Kst\n",
    "            S3 (`zfit.Parameter`): A_perp^2 - A_para^2 / A_zero^2 + A_para^2 + A_perp^2 (L, R)\n",
    "            S4 (`zfit.Parameter`): RE(A_zero*^2 * A_para^2) / A_zero^2 + A_para^2 + A_perp^2 (L, R)\n",
    "            S5 (`zfit.Parameter`): RE(A_zero*^2 * A_perp^2) / A_zero^2 + A_para^2 + A_perp^2 (L, R)\n",
    "            AFB (`zfit.Parameter`): Forward-backward asymmetry of the di-lepton system (also i.e. 3/4 * S6s)\n",
    "            S7 (`zfit.Parameter`): IM(A_zero*^2 * A_para^2) / A_zero^2 + A_para^2 + A_perp^2 (L, R)\n",
    "            S8 (`zfit.Parameter`): IM(A_zero*^2 * A_perp^2) / A_zero^2 + A_para^2 + A_perp^2 (L, R)\n",
    "            S9 (`zfit.Parameter`): IM(A_perp*^2 * A_para^2) / A_zero^2 + A_para^2 + A_perp^2 (L, R)\n",
    "            obs (`zfit.Space`):\n",
    "            name (str):\n",
    "    \"\"\"\n",
    "\n",
    "    _PARAMS = ['FL', 'S3', 'S4', 'S5', 'AFB', 'S7', 'S8', 'S9']\n",
    "    _N_OBS = 3\n",
    "\n",
    "    def _unnormalized_pdf(self, x):\n",
    "        FL = self.params['FL']\n",
    "        S3 = self.params['S3']\n",
    "        S4 = self.params['S4']\n",
    "        S5 = self.params['S5']\n",
    "        AFB = self.params['AFB']\n",
    "        S7 = self.params['S7']\n",
    "        S8 = self.params['S8']\n",
    "        S9 = self.params['S9']\n",
    "\n",
    "        costheta_l, costheta_k, phi = z.unstack_x(x)\n",
    "\n",
    "        sintheta_k = znp.sqrt(1.0 - costheta_k * costheta_k)\n",
    "        sintheta_l = znp.sqrt(1.0 - costheta_l * costheta_l)\n",
    "\n",
    "        sintheta_2k = (1.0 - costheta_k * costheta_k)\n",
    "        sintheta_2l = (1.0 - costheta_l * costheta_l)\n",
    "\n",
    "        sin2theta_k = (2.0 * sintheta_k * costheta_k)\n",
    "        cos2theta_l = (2.0 * costheta_l * costheta_l - 1.0)\n",
    "        sin2theta_l = (2.0 * sintheta_l * costheta_l)\n",
    "\n",
    "        pdf = ((3.0 / 4.0) * (1.0 - FL) * sintheta_2k +\n",
    "               FL * costheta_k * costheta_k +\n",
    "               (1.0 / 4.0) * (1.0 - FL) * sintheta_2k * cos2theta_l +\n",
    "               -1.0 * FL * costheta_k * costheta_k * cos2theta_l +\n",
    "               S3 * sintheta_2k * sintheta_2l * znp.cos(2.0 * phi) +\n",
    "               S4 * sin2theta_k * sin2theta_l * znp.cos(phi) +\n",
    "               S5 * sin2theta_k * sintheta_l * znp.cos(phi) +\n",
    "               (4.0 / 3.0) * AFB * sintheta_2k * costheta_l +\n",
    "               S7 * sin2theta_k * sintheta_l * znp.sin(phi) +\n",
    "               S8 * sin2theta_k * sin2theta_l * znp.sin(phi) +\n",
    "               S9 * sintheta_2k * sintheta_2l * znp.sin(2.0 * phi))\n",
    "\n",
    "        return pdf"
   ]
  },
  {
   "cell_type": "markdown",
   "metadata": {
    "collapsed": false,
    "jupyter": {
     "outputs_hidden": false
    }
   },
   "source": [
    "### Multidimensional Spaces\n",
    "\n",
    "This PDF now expects multidimensional data. Therefore, we need to provide a Space in multiple dimensions. The preferred way is to use the product operations to build this space from one dimensional `Space`s"
   ]
  },
  {
   "cell_type": "code",
   "execution_count": null,
   "metadata": {
    "ExecuteTime": {
     "end_time": "2023-10-08T18:57:41.730288074Z",
     "start_time": "2023-10-08T18:57:41.232442689Z"
    },
    "collapsed": false,
    "jupyter": {
     "outputs_hidden": false
    }
   },
   "outputs": [],
   "source": [
    "costhetha_k = zfit.Space('costheta_k', (-1, 1))\n",
    "costhetha_l = zfit.Space('costheta_l', (-1, 1))\n",
    "phi = zfit.Space('phi', (-np.pi, np.pi))\n",
    "angular_obs = costhetha_k * costhetha_l * phi"
   ]
  },
  {
   "cell_type": "markdown",
   "metadata": {
    "collapsed": false,
    "jupyter": {
     "outputs_hidden": false
    }
   },
   "source": [
    "### Managing parameters\n",
    "\n",
    "Luckily, we're in Python, which provides many tools out-of-the-box. Handling parameters in a `dict` can make things very easy, even for several parameters as here."
   ]
  },
  {
   "cell_type": "code",
   "execution_count": null,
   "metadata": {
    "ExecuteTime": {
     "end_time": "2023-10-08T18:57:41.730410265Z",
     "start_time": "2023-10-08T18:57:41.232586792Z"
    },
    "collapsed": false,
    "jupyter": {
     "outputs_hidden": false
    }
   },
   "outputs": [],
   "source": [
    "params_init = {'FL': 0.43, 'S3': -0.1, 'S4': -0.2, 'S5': -0.4, 'AFB': 0.343, 'S7': 0.001, 'S8': 0.003, 'S9': 0.002}\n",
    "params = {name: zfit.Parameter(name, val, -1, 1) for name, val in params_init.items()}"
   ]
  },
  {
   "cell_type": "code",
   "execution_count": null,
   "metadata": {
    "ExecuteTime": {
     "end_time": "2023-10-08T18:57:41.736744796Z",
     "start_time": "2023-10-08T18:57:41.276056506Z"
    },
    "collapsed": false,
    "jupyter": {
     "outputs_hidden": false
    }
   },
   "outputs": [],
   "source": [
    "angular_pdf = AngularPDF(obs=angular_obs, **params)\n",
    "# angular_pdf.update_integration_options(max_draws=10_000_000)\n",
    "zfit.settings.set_verbosity(-1)"
   ]
  },
  {
   "cell_type": "markdown",
   "metadata": {
    "collapsed": false,
    "jupyter": {
     "outputs_hidden": false
    }
   },
   "source": [
    "Extending the PDF with a dimension works easily by a product operation"
   ]
  },
  {
   "cell_type": "code",
   "execution_count": null,
   "metadata": {
    "ExecuteTime": {
     "end_time": "2023-10-08T18:57:41.737063809Z",
     "start_time": "2023-10-08T18:57:41.276176129Z"
    },
    "collapsed": false,
    "jupyter": {
     "outputs_hidden": false
    }
   },
   "outputs": [],
   "source": [
    "pdf4d = angular_pdf * my_gauss"
   ]
  },
  {
   "cell_type": "code",
   "execution_count": null,
   "metadata": {
    "ExecuteTime": {
     "end_time": "2023-10-08T18:57:50.246918061Z",
     "start_time": "2023-10-08T18:57:41.279657010Z"
    },
    "collapsed": false,
    "jupyter": {
     "outputs_hidden": false
    }
   },
   "outputs": [],
   "source": [
    "integral = angular_pdf.integrate(limits=angular_obs)  # this should be one\n",
    "sample = angular_pdf.sample(n=1000)\n",
    "prob_analytic = angular_pdf.pdf(sample)"
   ]
  },
  {
   "cell_type": "code",
   "execution_count": null,
   "metadata": {
    "ExecuteTime": {
     "end_time": "2023-10-08T18:57:52.007399944Z",
     "start_time": "2023-10-08T18:57:50.248530958Z"
    },
    "collapsed": false,
    "jupyter": {
     "outputs_hidden": false
    }
   },
   "outputs": [],
   "source": [
    "nll = zfit.loss.UnbinnedNLL(model=angular_pdf, data=sample)\n",
    "# and fit!"
   ]
  },
  {
   "cell_type": "code",
   "execution_count": null,
   "metadata": {
    "ExecuteTime": {
     "end_time": "2023-10-08T19:00:43.595345637Z",
     "start_time": "2023-10-08T18:57:52.011408978Z"
    },
    "collapsed": false,
    "jupyter": {
     "outputs_hidden": false
    }
   },
   "outputs": [],
   "source": [
    "# takes some time due to numerical normalization of the PDF\n",
    "minimizer = zfit.minimize.Minuit(\n",
    "    verbosity=7,\n",
    "    # gradient='zfit'\n",
    ")\n",
    "result = minimizer.minimize(nll)\n",
    "print(result)"
   ]
  }
 ],
 "metadata": {
  "kernelspec": {
   "display_name": "Python 3 (ipykernel)",
   "language": "python",
   "name": "python3"
  },
  "language_info": {
   "codemirror_mode": {
    "name": "ipython",
    "version": 3
   },
   "file_extension": ".py",
   "mimetype": "text/x-python",
   "name": "python",
   "nbconvert_exporter": "python",
   "pygments_lexer": "ipython3",
   "version": "3.11.5"
  }
 },
 "nbformat": 4,
 "nbformat_minor": 4
}
